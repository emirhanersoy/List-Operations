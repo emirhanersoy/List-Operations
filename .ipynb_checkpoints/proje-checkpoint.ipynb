{
 "cells": [
  {
   "cell_type": "code",
   "execution_count": 1,
   "id": "0245e433-3925-4ddd-803b-82b57e1653f1",
   "metadata": {
    "tags": []
   },
   "outputs": [
    {
     "name": "stdout",
     "output_type": "stream",
     "text": [
      "[1, 'a', 'cat', 2, 3, 'dog', 4, 5]\n"
     ]
    }
   ],
   "source": [
    "def flatten(lst):\n",
    "    result = []\n",
    "    for item in lst:\n",
    "        if isinstance(item, list):\n",
    "            result.extend(flatten(item))\n",
    "        else:\n",
    "            result.append(item)\n",
    "    return result\n",
    "\n",
    "# Test\n",
    "input_list = [[1,'a',['cat'],2],[[[3]],'dog'],4,5]\n",
    "output_list = flatten(input_list)\n",
    "print(output_list)  # Output: [1, 'a', 'cat', 2, 3, 'dog', 4, 5]\n",
    "\n"
   ]
  },
  {
   "cell_type": "code",
   "execution_count": 2,
   "id": "95ada017-dc59-45cc-a0dd-25f169d721d0",
   "metadata": {
    "tags": []
   },
   "outputs": [
    {
     "name": "stdout",
     "output_type": "stream",
     "text": [
      "[[7, 6, 5], [4, 3], [2, 1]]\n"
     ]
    }
   ],
   "source": [
    "def reverse_list(lst):\n",
    "    reversed_lst = []\n",
    "    for item in reversed(lst):\n",
    "        if isinstance(item, list):\n",
    "            reversed_lst.append(reverse_list(item))\n",
    "        else:\n",
    "            reversed_lst.append(item)\n",
    "    return reversed_lst\n",
    "\n",
    "# Test\n",
    "input_list = [[1, 2], [3, 4], [5, 6, 7]]\n",
    "output_list = reverse_list(input_list)\n",
    "print(output_list)  # Output: [[[7, 6, 5], [4, 3], [2, 1]]]\n"
   ]
  },
  {
   "cell_type": "code",
   "execution_count": null,
   "id": "81eb36ff-4ef1-4ed6-9c59-fa6098dbc8d6",
   "metadata": {},
   "outputs": [],
   "source": []
  }
 ],
 "metadata": {
  "kernelspec": {
   "display_name": "Python 3 (ipykernel)",
   "language": "python",
   "name": "python3"
  },
  "language_info": {
   "codemirror_mode": {
    "name": "ipython",
    "version": 3
   },
   "file_extension": ".py",
   "mimetype": "text/x-python",
   "name": "python",
   "nbconvert_exporter": "python",
   "pygments_lexer": "ipython3",
   "version": "3.11.5"
  }
 },
 "nbformat": 4,
 "nbformat_minor": 5
}
